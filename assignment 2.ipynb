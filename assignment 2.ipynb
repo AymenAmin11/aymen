{
 "cells": [
  {
   "cell_type": "code",
   "execution_count": null,
   "id": "566a6c98-a2b7-4c19-a855-25ea493c30f4",
   "metadata": {},
   "outputs": [],
   "source": [
    " ## TASK:1\n",
    " "
   ]
  },
  {
   "cell_type": "code",
   "execution_count": 1,
   "id": "c2e15378-7dcf-4b88-9410-07e5f79fa029",
   "metadata": {},
   "outputs": [
    {
     "name": "stdout",
     "output_type": "stream",
     "text": [
      "The sum of numbers from 1 to 10 is: 55\n"
     ]
    }
   ],
   "source": [
    "sum_num = 0\n",
    "\n",
    "for i in range(1,11):\n",
    "    sum_num += i\n",
    "\n",
    "print(\"The sum of numbers from 1 to 10 is:\", sum_num)"
   ]
  },
  {
   "cell_type": "code",
   "execution_count": 2,
   "id": "3299f03d-834f-46d8-8d6b-1baf61806e93",
   "metadata": {},
   "outputs": [
    {
     "name": "stdout",
     "output_type": "stream",
     "text": [
      "pandas\n",
      "numpy\n",
      "python\n"
     ]
    }
   ],
   "source": [
    "list = [\"python\", \"numpy\", \"pandas\"]\n",
    "\n",
    "for item in reversed(list):\n",
    "    print(item)"
   ]
  },
  {
   "cell_type": "code",
   "execution_count": null,
   "id": "c718583f-1f31-4fab-a869-779ad64ae4f1",
   "metadata": {},
   "outputs": [],
   "source": [
    "#### TASK:2\n"
   ]
  },
  {
   "cell_type": "code",
   "execution_count": 3,
   "id": "9ab638be-f7ca-438c-bef8-2d2652e1680c",
   "metadata": {},
   "outputs": [
    {
     "name": "stdin",
     "output_type": "stream",
     "text": [
      "Guess the number: 4\n"
     ]
    },
    {
     "name": "stdout",
     "output_type": "stream",
     "text": [
      "Try again! that's not the correct number.\n"
     ]
    },
    {
     "name": "stdin",
     "output_type": "stream",
     "text": [
      "Guess the number: 3\n"
     ]
    },
    {
     "name": "stdout",
     "output_type": "stream",
     "text": [
      "congratulation! You guessed the correct number.\n",
      "Game over\n"
     ]
    }
   ],
   "source": [
    "correct_number = 3\n",
    "user_guess = None\n",
    "\n",
    "while user_guess != correct_number:\n",
    "    user_guess = int(input(\"Guess the number:\"))\n",
    "    if user_guess == correct_number:\n",
    "        print(\"congratulation! You guessed the correct number.\")\n",
    "    else:\n",
    "        print(\"Try again! that's not the correct number.\")\n",
    "\n",
    "print(\"Game over\")\n",
    "    "
   ]
  },
  {
   "cell_type": "code",
   "execution_count": 5,
   "id": "dfc544c9-8e14-40a2-98eb-4f05145b5379",
   "metadata": {},
   "outputs": [
    {
     "name": "stdin",
     "output_type": "stream",
     "text": [
      "Enter a value(type 'done' to exit): not\n"
     ]
    },
    {
     "name": "stdout",
     "output_type": "stream",
     "text": [
      "user inputs: ['not']\n"
     ]
    },
    {
     "name": "stdin",
     "output_type": "stream",
     "text": [
      "Enter a value(type 'done' to exit): not done\n"
     ]
    },
    {
     "name": "stdout",
     "output_type": "stream",
     "text": [
      "user inputs: ['not', 'not done']\n"
     ]
    },
    {
     "name": "stdin",
     "output_type": "stream",
     "text": [
      "Enter a value(type 'done' to exit): done\n"
     ]
    }
   ],
   "source": [
    "user_input_list = []\n",
    "\n",
    "while True:\n",
    "    user_input = input(\"Enter a value(type 'done' to exit):\")\n",
    "    if user_input.lower() == 'done':\n",
    "        break\n",
    "    else:\n",
    "        user_input_list.append(user_input)\n",
    "        print(\"user inputs:\", user_input_list)"
   ]
  },
  {
   "cell_type": "code",
   "execution_count": null,
   "id": "f4be6a5c-2f89-4a88-873b-c6cf1338c0a2",
   "metadata": {},
   "outputs": [],
   "source": [
    "#### TASK:3"
   ]
  },
  {
   "cell_type": "code",
   "execution_count": 9,
   "id": "2977e7b8-20ae-4567-9c5b-38b6e6731ede",
   "metadata": {},
   "outputs": [],
   "source": [
    "def even_number():\n",
    "  for num in range(2,21,2):\n",
    "      print(num)"
   ]
  },
  {
   "cell_type": "code",
   "execution_count": 10,
   "id": "01fedd55-17b1-4e9d-8833-39575663c7b3",
   "metadata": {},
   "outputs": [
    {
     "name": "stdout",
     "output_type": "stream",
     "text": [
      "2\n",
      "4\n",
      "6\n",
      "8\n",
      "10\n",
      "12\n",
      "14\n",
      "16\n",
      "18\n",
      "20\n"
     ]
    }
   ],
   "source": [
    "even_number()"
   ]
  },
  {
   "cell_type": "code",
   "execution_count": 11,
   "id": "dcc05c32-4f81-4a6e-9a02-2746a0941e0d",
   "metadata": {},
   "outputs": [
    {
     "name": "stdout",
     "output_type": "stream",
     "text": [
      "[2, 4, 6, 8, 10]\n"
     ]
    }
   ],
   "source": [
    "def multiply_elements(input_list, number):\n",
    "    multiplied_list = [element * number for element in input_list]\n",
    "    return multiplied_list\n",
    "\n",
    "my_list = [1,2,3,4,5]\n",
    "multiplier = 2\n",
    "result = multiply_elements(my_list, multiplier)\n",
    "print(result)\n",
    "    "
   ]
  },
  {
   "cell_type": "code",
   "execution_count": 21,
   "id": "8e662f02-b1b9-4fe5-9690-4546bf2ca6bc",
   "metadata": {},
   "outputs": [],
   "source": [
    "def calculator(num1, num2, operation):\n",
    "    if operation == \"add\":\n",
    "        return num1 + num2\n",
    "    elif operation == \"subtract\":\n",
    "        return num1 - num2\n",
    "    elif operation == \"multiply\":\n",
    "        return num1 * num2\n",
    "    elif operation == \"divide\":\n",
    "        if num2 != 0:\n",
    "            return num1 / num2\n",
    "        else:\n",
    "            return \"Cannot divide by zero\"\n",
    "\n",
    "    \n",
    "        "
   ]
  },
  {
   "cell_type": "code",
   "execution_count": 22,
   "id": "e85e0f21-1995-4b50-84ef-6146feb75bdf",
   "metadata": {},
   "outputs": [
    {
     "name": "stdout",
     "output_type": "stream",
     "text": [
      "15\n"
     ]
    }
   ],
   "source": [
    "\n",
    "    result = calculator(10,5,\"add\")\n",
    "    print(result)"
   ]
  },
  {
   "cell_type": "code",
   "execution_count": 23,
   "id": "0fadba12-fb75-47c5-8309-144c0d82a4b3",
   "metadata": {},
   "outputs": [
    {
     "name": "stdout",
     "output_type": "stream",
     "text": [
      "50\n"
     ]
    }
   ],
   "source": [
    "\n",
    "    result = calculator(10,5,\"multiply\")\n",
    "    print(result)"
   ]
  },
  {
   "cell_type": "code",
   "execution_count": 25,
   "id": "3339d590-be83-4070-937a-d49f0090362b",
   "metadata": {},
   "outputs": [
    {
     "name": "stdout",
     "output_type": "stream",
     "text": [
      "5\n"
     ]
    }
   ],
   "source": [
    " result = calculator(10,5,\"subtract\")\n",
    " print(result)"
   ]
  },
  {
   "cell_type": "code",
   "execution_count": 29,
   "id": "3262612c-01d1-47c5-9a40-99084234579d",
   "metadata": {},
   "outputs": [
    {
     "name": "stdout",
     "output_type": "stream",
     "text": [
      "2.0\n"
     ]
    }
   ],
   "source": [
    " result = calculator(10,5,\"divide\")\n",
    " print(result)"
   ]
  },
  {
   "cell_type": "code",
   "execution_count": 30,
   "id": "c14b8806-520f-4394-a640-f54d07d74a1c",
   "metadata": {},
   "outputs": [],
   "source": [
    "def find_maximum(numbers):\n",
    "    if not numbers:  # Check if the list is empty\n",
    "        return None\n",
    "    \n",
    "    max_number = numbers[0]  \n",
    "    \n",
    "    for num in numbers:\n",
    "        if num > max_number:\n",
    "            max_number = num\n",
    "    \n",
    "    return max_number"
   ]
  },
  {
   "cell_type": "code",
   "execution_count": 31,
   "id": "9639139f-1a41-44a6-b653-1b99c20eb2c6",
   "metadata": {},
   "outputs": [
    {
     "name": "stdout",
     "output_type": "stream",
     "text": [
      "Maximum number in the list: 15\n"
     ]
    }
   ],
   "source": [
    "numbers_list = [5, 10, 3, 8, 15]\n",
    "print(\"Maximum number in the list:\", find_maximum(numbers_list))"
   ]
  },
  {
   "cell_type": "code",
   "execution_count": 33,
   "id": "1e850718-c458-4950-85a9-5c59bde8d930",
   "metadata": {},
   "outputs": [
    {
     "name": "stdout",
     "output_type": "stream",
     "text": [
      "Product: 15\n"
     ]
    }
   ],
   "source": [
    "multiply = lambda x, y: x * y\n",
    "result = multiply(5, 3)\n",
    "print(\"Product:\", result)"
   ]
  },
  {
   "cell_type": "code",
   "execution_count": 36,
   "id": "d21d9b7f-91b8-4b42-9a32-670d7332104f",
   "metadata": {},
   "outputs": [
    {
     "name": "stdout",
     "output_type": "stream",
     "text": [
      "Even numbers in the list: [2, 4, 6, 8, 10]\n"
     ]
    }
   ],
   "source": [
    "def even_numbers(input_list):\n",
    "    return [num for num in input_list if num % 2 == 0]\n",
    "original_list = [1, 2, 3, 4, 5, 6, 7, 8, 9, 10]\n",
    "even_numbers_list = even_numbers(original_list)\n",
    "print(\"Even numbers in the list:\", even_numbers_list)"
   ]
  },
  {
   "cell_type": "code",
   "execution_count": null,
   "id": "4dd3e9ac-46ce-4810-97c4-d36233c62bb6",
   "metadata": {},
   "outputs": [],
   "source": []
  }
 ],
 "metadata": {
  "kernelspec": {
   "display_name": "Python 3 (ipykernel)",
   "language": "python",
   "name": "python3"
  },
  "language_info": {
   "codemirror_mode": {
    "name": "ipython",
    "version": 3
   },
   "file_extension": ".py",
   "mimetype": "text/x-python",
   "name": "python",
   "nbconvert_exporter": "python",
   "pygments_lexer": "ipython3",
   "version": "3.11.7"
  }
 },
 "nbformat": 4,
 "nbformat_minor": 5
}
